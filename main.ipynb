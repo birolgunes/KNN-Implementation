{
 "metadata": {
  "language_info": {
   "codemirror_mode": {
    "name": "ipython",
    "version": 3
   },
   "file_extension": ".py",
   "mimetype": "text/x-python",
   "name": "python",
   "nbconvert_exporter": "python",
   "pygments_lexer": "ipython3",
   "version": "3.8.6-final"
  },
  "orig_nbformat": 2,
  "kernelspec": {
   "name": "python3",
   "display_name": "Python 3",
   "language": "python"
  }
 },
 "nbformat": 4,
 "nbformat_minor": 2,
 "cells": [
  {
   "source": [
    "## 171180030 Birol Güneş CENG313 Assignment 2"
   ],
   "cell_type": "markdown",
   "metadata": {}
  },
  {
   "cell_type": "code",
   "execution_count": 1,
   "metadata": {},
   "outputs": [],
   "source": [
    "from math import sqrt\n",
    "from sklearn.datasets import load_iris\n",
    "from sklearn.model_selection import train_test_split\n",
    "from sklearn.metrics import accuracy_score\n"
   ]
  },
  {
   "cell_type": "code",
   "execution_count": 2,
   "metadata": {},
   "outputs": [],
   "source": [
    "iris = load_iris() # Load irisdataset"
   ]
  },
  {
   "cell_type": "code",
   "execution_count": 3,
   "metadata": {},
   "outputs": [
    {
     "output_type": "stream",
     "name": "stdout",
     "text": [
      "['sepal length (cm)', 'sepal width (cm)', 'petal length (cm)', 'petal width (cm)']\n"
     ]
    }
   ],
   "source": [
    "print(iris.feature_names) # show data column names"
   ]
  },
  {
   "cell_type": "code",
   "execution_count": 4,
   "metadata": {},
   "outputs": [],
   "source": [
    "X = iris.data # x is our data\n",
    "y = iris.target # y is target data, like virginica, setosa, versicolor type, 0 1 2 "
   ]
  },
  {
   "cell_type": "code",
   "execution_count": 5,
   "metadata": {},
   "outputs": [],
   "source": [
    "X_train, X_test, y_train, y_test = train_test_split(X, y, test_size=0.30, random_state= 1920) \n",
    "\n",
    "# We split our entire dataset into 70% for practice and 30% for testing.\n",
    "\n",
    "# Random for every time same random values, why 1920. Because, Even if I didn't select this number, the code works, no problem. The reason I chose this number is to be able to produce different values ​​for different values ​​such as K = 1, K = 3, K = 5. I discovered the number just by shaking it. If we will chose 42, every time accuracy score is %100(1.0). 42 is magical number."
   ]
  },
  {
   "cell_type": "code",
   "execution_count": 6,
   "metadata": {},
   "outputs": [],
   "source": [
    "def euclidean_d(r1,r2): # Euclidean Distance = sqrt(sum i to N (x1_i – x2_i)^2)\n",
    "    distance = 0.0\n",
    "    for i in range(len(r1)): \n",
    "        distance += (r1[i] - r2[i])**2 # \n",
    "    return sqrt(distance)\n",
    "# Euclidean formula is calculate the distance in the 4th dimension. 4 dimensions are -> sepal length (cm)', 'sepal width (cm)', 'petal length (cm)', 'petal width (cm)'"
   ]
  },
  {
   "cell_type": "code",
   "execution_count": 7,
   "metadata": {},
   "outputs": [],
   "source": [
    "def KNN(X_train_l, X_test_row, KNN_KEY):\n",
    "    \n",
    "    setosa_0 = 0\n",
    "    versicolor_1 = 0\n",
    "    virginica_2 = 0\n",
    "# counter for types, if i found closest, increase it.\n",
    "    distances = list() # i add all distances in a list and calculate the distances using the list\n",
    "    for i in range (len(X_train_l)):\n",
    "        distance = euclidean_d(X_train_l[i],X_test_row)\n",
    "        distances.append((distance, i))\n",
    "    distances.sort() # distances sorted because we need closest values\n",
    "    distances_ID = distances[:KNN_KEY] \n",
    "    for i in range (KNN_KEY):\n",
    "        if y_train[distances_ID[i][1]] == 0:\n",
    "            setosa_0 += 1\n",
    "        elif y_train[distances_ID[i][1]] == 1:\n",
    "            versicolor_1 += 1\n",
    "        else:\n",
    "            virginica_2 += 1\n",
    "    # found it and increase it\n",
    "\n",
    "    closer_list = list()\n",
    "    closer_list.append(setosa_0)\n",
    "    closer_list.append(versicolor_1)\n",
    "    closer_list.append(virginica_2)\n",
    "    return closer_list.index(max(closer_list))"
   ]
  },
  {
   "cell_type": "code",
   "execution_count": 8,
   "metadata": {},
   "outputs": [
    {
     "output_type": "stream",
     "name": "stdout",
     "text": [
      "[2, 2, 2, 2, 0, 0, 1, 0, 2, 2, 2, 1, 1, 2, 2, 1, 1, 0, 2, 1, 1, 2, 0, 1, 2, 2, 2, 0, 2, 0, 2, 2, 2, 0, 2, 1, 1, 1, 1, 1, 2, 1, 2, 0, 0]\n"
     ]
    }
   ],
   "source": [
    "y_true = list()\n",
    "for i in range (len(y_test)):\n",
    "    y_true.append(y_test[i])\n",
    "print(y_true)"
   ]
  },
  {
   "cell_type": "code",
   "execution_count": 9,
   "metadata": {
    "tags": []
   },
   "outputs": [
    {
     "output_type": "stream",
     "name": "stdout",
     "text": [
      "[2, 2, 1, 2, 0, 0, 1, 0, 2, 2, 1, 1, 1, 2, 2, 1, 1, 0, 2, 1, 1, 2, 0, 1, 2, 2, 2, 0, 1, 0, 2, 2, 2, 0, 2, 1, 1, 1, 1, 1, 2, 1, 2, 0, 0]\nAccuracy score for K = 1 :  0.9333333333333333\n"
     ]
    }
   ],
   "source": [
    "k = 1\n",
    "prediction_1 = list()\n",
    "for i in range (len(X_test)):\n",
    "    prediction_1.append(KNN(X_train,X_test[i],k))\n",
    "print(prediction_1)\n",
    "print(\"Accuracy score for K = 1 : \", accuracy_score(y_true, prediction_1)) "
   ]
  },
  {
   "cell_type": "code",
   "execution_count": 10,
   "metadata": {},
   "outputs": [
    {
     "output_type": "stream",
     "name": "stdout",
     "text": [
      "[2, 2, 1, 1, 0, 0, 1, 0, 2, 2, 1, 1, 1, 2, 2, 1, 1, 0, 2, 1, 1, 1, 0, 1, 2, 2, 2, 0, 1, 0, 2, 2, 2, 0, 2, 1, 1, 1, 1, 1, 1, 1, 2, 0, 0]\nAccuracy score for K = 3 :  0.8666666666666667\n"
     ]
    }
   ],
   "source": [
    "k = 3\n",
    "prediction_3 = list()\n",
    "for i in range (len(X_test)):\n",
    "    prediction_3.append(KNN(X_train,X_test[i],k))\n",
    "print(prediction_3)\n",
    "print(\"Accuracy score for K = 3 : \", accuracy_score(y_true, prediction_3)) "
   ]
  },
  {
   "cell_type": "code",
   "execution_count": 11,
   "metadata": {},
   "outputs": [
    {
     "output_type": "stream",
     "name": "stdout",
     "text": [
      "[2, 2, 1, 1, 0, 0, 1, 0, 2, 2, 1, 1, 1, 2, 2, 1, 1, 0, 2, 1, 1, 1, 0, 1, 2, 2, 2, 0, 2, 0, 2, 2, 2, 0, 2, 1, 1, 1, 1, 1, 1, 1, 2, 0, 0]\nAccuracy score for K = 5 :  0.8888888888888888\n"
     ]
    }
   ],
   "source": [
    "k = 5\n",
    "prediction_5 = list()\n",
    "for i in range (len(X_test)):\n",
    "    prediction_5.append(KNN(X_train,X_test[i],k))\n",
    "print(prediction_5)\n",
    "print(\"Accuracy score for K = 5 : \", accuracy_score(y_true, prediction_5)) "
   ]
  },
  {
   "cell_type": "code",
   "execution_count": null,
   "metadata": {},
   "outputs": [],
   "source": []
  }
 ]
}